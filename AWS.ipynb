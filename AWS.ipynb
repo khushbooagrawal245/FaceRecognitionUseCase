{
 "cells": [
  {
   "cell_type": "markdown",
   "id": "2c304dc7",
   "metadata": {},
   "source": [
    "# Importing Libraries"
   ]
  },
  {
   "cell_type": "code",
   "execution_count": null,
   "id": "ef3e3312",
   "metadata": {},
   "outputs": [],
   "source": [
    "import cv2\n",
    "import time\n",
    "import numpy as np\n",
    "from os import listdir\n",
    "from os.path import isfile, join\n",
    "import boto3\n",
    "import os \n",
    "import subprocess\n",
    "import time"
   ]
  },
  {
   "cell_type": "code",
   "execution_count": null,
   "id": "a6a1fa32",
   "metadata": {},
   "outputs": [],
   "source": [
    "name = input(\"Enter Your Friend's Name: \")"
   ]
  },
  {
   "cell_type": "markdown",
   "id": "d43735f4",
   "metadata": {},
   "source": [
    "# 1. Creating DataSet"
   ]
  },
  {
   "cell_type": "code",
   "execution_count": null,
   "id": "30010d88",
   "metadata": {},
   "outputs": [],
   "source": [
    "# Load HAAR face classifier\n",
    "Classifier = cv2.CascadeClassifier(\"haarcascade_frontalface_default.xml\")"
   ]
  },
  {
   "cell_type": "code",
   "execution_count": null,
   "id": "4e9f1bb8",
   "metadata": {},
   "outputs": [],
   "source": [
    "#Initialize Internal Webcam \n",
    "cap = cv2.VideoCapture(0)"
   ]
  },
  {
   "cell_type": "code",
   "execution_count": null,
   "id": "dabfcafe",
   "metadata": {},
   "outputs": [],
   "source": [
    "#Detection of the face \n",
    "#(images passed in this function one by one and then it returns the cropped face)\n",
    "\n",
    "def face_detection(img):\n",
    "    gray = cv2.cvtColor(img,cv2.COLOR_BGR2GRAY)\n",
    "    faces = Classifier.detectMultiScale(photo)\n",
    "    \n",
    "    if len(faces)==0:\n",
    "        return None\n",
    "    \n",
    "    #else part which crop the input image \n",
    "    for (x,y,w,h) in faces:\n",
    "        cropped_face = img[y:y+h, x:x+w]\n",
    "    return cropped_face"
   ]
  },
  {
   "cell_type": "code",
   "execution_count": null,
   "id": "56de5ab4",
   "metadata": {},
   "outputs": [],
   "source": [
    "#Collecting 100 samples of your face from webcam input (Required data)\n",
    "count = 0\n",
    "while True:\n",
    "    #Read single image of the face \n",
    "    ret, photo = cap.read()\n",
    "    \n",
    "    if face_detection(photo) is not None:\n",
    "        # face found count increase\n",
    "        count +=1\n",
    "        # resizing every image\n",
    "        face = cv2.resize(face_detection(photo), (200, 200))\n",
    "        face = cv2.cvtColor(face, cv2.COLOR_BGR2GRAY)\n",
    "        \n",
    "        #save the data file in the specified directory\n",
    "        #image saved as count_number.jpg in particular directory path\n",
    "        file_path = './faces/user/'+ str(count)+'.jpg'\n",
    "        cv2.imwrite(file_path, face)\n",
    "        \n",
    "        #putting the count text on image to display the live count\n",
    "        cv2.putText(face, str(count), (50, 50), cv2.FONT_HERSHEY_COMPLEX, 1, (0,255,0), 2)\n",
    "        cv2.imshow('Face Cropper', face)\n",
    "        \n",
    "    else:\n",
    "        pass\n",
    "\n",
    "    if cv2.waitKey(1) == 13 or count == 100: \n",
    "        break\n",
    "        \n",
    "cap.release()\n",
    "cv2.destroyAllWindows()      \n",
    "print(\"Collecting Samples Complete\")\n",
    "print(\"+-----------------------------+\")\n",
    "print(\"Dataset Successfully Created!\")"
   ]
  },
  {
   "cell_type": "markdown",
   "id": "e9570344",
   "metadata": {},
   "source": [
    "# 2. Train the model"
   ]
  },
  {
   "cell_type": "code",
   "execution_count": null,
   "id": "bbed2e16",
   "metadata": {},
   "outputs": [],
   "source": [
    "#Get the data to train from the specified directory\n",
    "data_path = './faces/user/'"
   ]
  },
  {
   "cell_type": "code",
   "execution_count": null,
   "id": "ff99711a",
   "metadata": {},
   "outputs": [],
   "source": [
    "#list of images \n",
    "onlyfiles = [f for f in listdir(data_path) if isfile(join(data_path, f))]\n",
    "\n",
    "# Create arrays for training data and labels\n",
    "Training_Data, Labels = [], []\n",
    "\n",
    "# Open training images in our datapath\n",
    "# Create a numpy array for training data\n",
    "for i, files in enumerate(onlyfiles):\n",
    "    \n",
    "    image_path = data_path + onlyfiles[i]\n",
    "    images = cv2.imread(image_path, cv2.IMREAD_GRAYSCALE)\n",
    "    Training_Data.append(np.asarray(images, dtype=np.uint8))\n",
    "    Labels.append(i)"
   ]
  },
  {
   "cell_type": "code",
   "execution_count": null,
   "id": "8b12126e",
   "metadata": {},
   "outputs": [],
   "source": [
    "# Create a numpy array for both training data and labels\n",
    "Labels = np.asarray(Labels, dtype=np.int32)\n",
    "\n",
    "# Initialize facial recognizer\n",
    "model  = cv2.face_LBPHFaceRecognizer.create()\n",
    "\n",
    "# Let's train our model \n",
    "model.train(np.asarray(Training_Data), np.asarray(Labels))\n",
    "print(\"Model trained successefully!!\")"
   ]
  },
  {
   "cell_type": "markdown",
   "id": "100af290",
   "metadata": {},
   "source": [
    "# 3. Adding Functions"
   ]
  },
  {
   "cell_type": "code",
   "execution_count": null,
   "id": "d5b7a2bb",
   "metadata": {},
   "outputs": [],
   "source": [
    "def createInstance():\n",
    "    os.system('aws ec2 run-instances --image-id ami-0ad704c126371a549 --count 1 --instance-type t2.micro --key-name XXXXXXXX --security-group-ids sg-0029df2a2a568ca7d')\n",
    "    print(\"ec2-instance Created!\")\n",
    "\n",
    "def createVolume():\n",
    "    az = subprocess.getoutput('aws ec2 describe-instances --filters Name=instance-state-name,Values=running --query \"Reservations[].Instances[].Placement.AvailabilityZone\" --output text')\n",
    "    os.system('aws ec2 create-volume --availability-zone  {} --size 5'.format(az))\n",
    "    print(\"EBS of 5GiB Volume created!\")\n",
    "\n",
    "def attachVolume():\n",
    "    for i in range(20):\n",
    "        time.sleep(1)\n",
    "        print(\"Attaching...\")\n",
    "    instance_id = subprocess.getoutput('aws ec2 describe-instances --filters Name=instance-state-name,Values=running --query \"Reservations[].Instances[].InstanceId\" --output text')\n",
    "    volume_id = subprocess.getoutput('aws ec2 describe-volumes --filters Name=size,Values=5 --query \"Volumes[*].VolumeId\" --output text')\n",
    "    os.system('aws ec2 attach-volume --device /dev/xvdc --instance-id {} --volume-id {}'.format(instance_id, volume_id))\n",
    "    print(\"Volume attached to the Instance!\")"
   ]
  },
  {
   "cell_type": "markdown",
   "id": "37feadd9",
   "metadata": {},
   "source": [
    "# 4. Run the Model"
   ]
  },
  {
   "cell_type": "code",
   "execution_count": null,
   "id": "7733d877",
   "metadata": {},
   "outputs": [],
   "source": [
    "face_classifier = cv2.CascadeClassifier('haarcascade_frontalface_default.xml')"
   ]
  },
  {
   "cell_type": "code",
   "execution_count": null,
   "id": "a0dc39c6",
   "metadata": {},
   "outputs": [],
   "source": [
    "def face_detector(img, size=0.5):\n",
    "    \n",
    "    # Convert image to grayscale\n",
    "    gray = cv2.cvtColor(img,cv2.COLOR_BGR2GRAY)\n",
    "    faces = face_classifier.detectMultiScale(gray, 1.3, 5)\n",
    "    if faces == ():\n",
    "        return img, []\n",
    "    \n",
    "    for (x,y,w,h) in faces:\n",
    "        cv2.rectangle(img,(x,y),(x+w,y+h),(0,0,255),2)\n",
    "        roi = img[y:y+h, x:x+w]\n",
    "        roi = cv2.resize(roi, (200, 200))\n",
    "    return img, roi"
   ]
  },
  {
   "cell_type": "code",
   "execution_count": null,
   "id": "15178c0f",
   "metadata": {
    "scrolled": true
   },
   "outputs": [],
   "source": [
    "import os\n",
    "# Open Internal Webcam\n",
    "cap = cv2.VideoCapture(0)\n",
    "while True:\n",
    "    ret, frame = cap.read()\n",
    "    image, face = face_detector(frame)    \n",
    "    try:\n",
    "        face = cv2.cvtColor(face, cv2.COLOR_BGR2GRAY)\n",
    "        # \"results\" comprises of a tuple containing the label and the confidence value\n",
    "        results = model.predict(face)  #passing face for prediction\n",
    "        \n",
    "        if results[1] < 500:\n",
    "            confidence = int( 100 * (1 - (results[1])/400) )\n",
    "            display_string = str(confidence) + '% Correct'\n",
    "            cv2.putText(image, display_string, (185, 120), cv2.FONT_ITALIC, 1, (255,40,150), 2)\n",
    "        \n",
    "        if confidence >= 90:\n",
    "            cv2.putText(image,\"Face Found!\",(190, 80) , cv2.FONT_ITALIC,1, (0,0,255), 2)\n",
    "            cv2.putText(image, name, (175,440), cv2.FONT_ITALIC, 1, (0,255,0), 2)\n",
    "            cv2.imshow('Detecting Face', image )\n",
    "            isConfident = True\n",
    "                        \n",
    "            \n",
    "            \n",
    "        else:\n",
    "            cv2.putText(image, \"User Not Found!\", (175,440), cv2.FONT_ITALIC, 1, (0,0,255), 2)\n",
    "            cv2.imshow('Detecting Face', image )\n",
    "\n",
    "    except:\n",
    "        cv2.putText(image, \"No Face Found!\", (185, 100) , cv2.FONT_ITALIC,1, (0,0,255), 2)\n",
    "        cv2.putText(image, \"Looking for face..\", (175, 440), cv2.FONT_ITALIC, 1, (0,0,255), 2)\n",
    "        cv2.imshow('Detecting Face', image )\n",
    "        pass\n",
    "        \n",
    "    if cv2.waitKey(1) == 13: #13 is the Enter Key\n",
    "        break\n",
    "        \n",
    "cap.release()\n",
    "cv2.destroyAllWindows()"
   ]
  },
  {
   "cell_type": "code",
   "execution_count": null,
   "id": "eb2ccb75",
   "metadata": {},
   "outputs": [],
   "source": [
    "if isConfident == True:\n",
    "    print(\"Face Detected!\")\n",
    "    print(\"-----------------------\")\n",
    "    createInstance()\n",
    "    print(\"#########################\")\n",
    "    createVolume()\n",
    "    print(\"#########################\")\n",
    "    attachVolume()\n",
    "    print(\"#########################\")\n",
    "    print(\"GREAT SUCCESS!!\")"
   ]
  }
 ],
 "metadata": {
  "kernelspec": {
   "display_name": "Python 3",
   "language": "python",
   "name": "python3"
  },
  "language_info": {
   "codemirror_mode": {
    "name": "ipython",
    "version": 3
   },
   "file_extension": ".py",
   "mimetype": "text/x-python",
   "name": "python",
   "nbconvert_exporter": "python",
   "pygments_lexer": "ipython3",
   "version": "3.9.5"
  }
 },
 "nbformat": 4,
 "nbformat_minor": 5
}
